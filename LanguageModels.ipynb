{
 "cells": [
  {
   "cell_type": "markdown",
   "id": "fa088bc1",
   "metadata": {},
   "source": [
    "# Neural Network Language Models\n",
    "1.1 About \n",
    "- Language modeling (LM) is the use of various statistical and probabilistic techniques to determine the probability\n",
    "of a given sequence of words occurring in a sentence. Thus, it may be defined as a probability distribution over\n",
    "the vocabulary words. In traditional N-gram Language Models, the probabilities of words occurring after a given \n",
    "context are defined as: \n",
    "This part involves creating a Neural Language Model using standard Deep Learning Frameworks \n",
    "with a 5-gram context."
   ]
  },
  {
   "cell_type": "code",
   "execution_count": 1,
   "id": "76Vxu0kMAH6A",
   "metadata": {
    "colab": {
     "base_uri": "https://localhost:8080/"
    },
    "id": "76Vxu0kMAH6A",
    "outputId": "fb5b799c-3293-49ca-8083-157d1a62f55c"
   },
   "outputs": [
    {
     "name": "stdout",
     "output_type": "stream",
     "text": [
      "Drive already mounted at /content/drive; to attempt to forcibly remount, call drive.mount(\"/content/drive\", force_remount=True).\n"
     ]
    }
   ],
   "source": [
    "from google.colab import drive\n",
    "drive.mount('/content/drive')"
   ]
  },
  {
   "cell_type": "code",
   "execution_count": 2,
   "id": "83faef8d",
   "metadata": {
    "colab": {
     "base_uri": "https://localhost:8080/"
    },
    "id": "83faef8d",
    "outputId": "d6c5fde0-2633-4957-a695-5f6d3c931004"
   },
   "outputs": [
    {
     "name": "stdout",
     "output_type": "stream",
     "text": [
      "cuda\n"
     ]
    }
   ],
   "source": [
    "#importing required libraries.....\n",
    "import torchtext\n",
    "import nltk\n",
    "import torch\n",
    "import re\n",
    "from torch.utils.data import Dataset, DataLoader\n",
    "from nltk.util import ngrams\n",
    "from torch import nn\n",
    "import torch.nn.functional as F\n",
    "import matplotlib.pyplot as plt\n",
    "\n",
    "device = 'cuda'\n",
    "print(device)"
   ]
  },
  {
   "cell_type": "markdown",
   "id": "90194ea5",
   "metadata": {
    "id": "90194ea5"
   },
   "source": [
    "# Dataset Preprocessing\n",
    "1.3 Dataset \n",
    "1. You need to create the Neural Language Model described above trained on the Auguste_Maquet corpus. \n",
    "2. You are expected to clean the data to remove any special characters and use it for training the Neural LM. \n",
    "You can use libraries for tokenization. \n",
    "3. You can download the corpora from this link. Sample 10,000 sentences as the validation set and \n",
    "20,000 sentences as a test set. "
   ]
  },
  {
   "cell_type": "code",
   "execution_count": 3,
   "id": "226b70d9",
   "metadata": {
    "id": "226b70d9"
   },
   "outputs": [],
   "source": [
    "#reading data from text file....\n",
    "data = []\n",
    "with open(\"/content/drive/MyDrive/Auguste_Maquet.txt\",'r',encoding='utf-8') as f:\n",
    "    for line in f:\n",
    "        if line.strip():\n",
    "            data.append(line.lower())"
   ]
  },
  {
   "cell_type": "code",
   "execution_count": 4,
   "id": "ff4911ca",
   "metadata": {
    "colab": {
     "base_uri": "https://localhost:8080/"
    },
    "id": "ff4911ca",
    "outputId": "c0bc3720-bed3-4949-b3c9-85ac27614f16"
   },
   "outputs": [
    {
     "name": "stdout",
     "output_type": "stream",
     "text": [
      "50000\n"
     ]
    }
   ],
   "source": [
    "data = data[:50000]\n",
    "n = len(data)\n",
    "print(n)"
   ]
  },
  {
   "cell_type": "code",
   "execution_count": 5,
   "id": "7dbe9815",
   "metadata": {
    "id": "7dbe9815"
   },
   "outputs": [],
   "source": [
    "#creating a vocabulary\n",
    "tokenizer = torchtext.data.utils.get_tokenizer('basic_english')\n",
    "\n",
    "#creating vocabulary\n",
    "clean_text  = re.sub(\"[^A-Za-z0-9]\", \" \", \"\".join(data))\n",
    "vocab = list(sorted(set(tokenizer(clean_text))))\n",
    "vocab.append('<end>') #adding extra token"
   ]
  },
  {
   "cell_type": "code",
   "execution_count": 6,
   "id": "673692e1",
   "metadata": {
    "colab": {
     "base_uri": "https://localhost:8080/"
    },
    "id": "673692e1",
    "outputId": "0e9631d4-f260-4b1b-fd34-5c80434db0ee"
   },
   "outputs": [
    {
     "name": "stdout",
     "output_type": "stream",
     "text": [
      "Number of words in Vocabulary:17439\n"
     ]
    }
   ],
   "source": [
    "print(f\"Number of words in Vocabulary:{len(vocab)}\")"
   ]
  },
  {
   "cell_type": "code",
   "execution_count": 7,
   "id": "a8e29796",
   "metadata": {
    "id": "a8e29796"
   },
   "outputs": [],
   "source": [
    "#creating dictionary with word_id mappings...\n",
    "word2id = {word:idx for idx,word in enumerate(vocab)}\n",
    "id2word = {idx:word for idx,word in enumerate(vocab)}"
   ]
  },
  {
   "cell_type": "code",
   "execution_count": 8,
   "id": "eac97ed7",
   "metadata": {
    "id": "eac97ed7"
   },
   "outputs": [],
   "source": [
    "#splitting the dataset into train and test sets....\n",
    "train_, test_ = data[:int(.7*(n))],data[int(.7*n):]"
   ]
  },
  {
   "cell_type": "code",
   "execution_count": 9,
   "id": "a99debf1",
   "metadata": {
    "colab": {
     "base_uri": "https://localhost:8080/"
    },
    "id": "a99debf1",
    "outputId": "54c3615d-d008-46e4-9a67-16159ebb3c40"
   },
   "outputs": [
    {
     "name": "stdout",
     "output_type": "stream",
     "text": [
      "Number of lines in train set : 35000\n",
      "Number of lines in test set : 15000\n"
     ]
    }
   ],
   "source": [
    "print(f\"Number of lines in train set : {len(train_)}\")\n",
    "print(f\"Number of lines in test set : {len(test_)}\")"
   ]
  },
  {
   "cell_type": "code",
   "execution_count": 10,
   "id": "139191a9",
   "metadata": {
    "id": "139191a9"
   },
   "outputs": [],
   "source": [
    "#pre-processing the train and test set by removing special characters.....\n",
    "train_data = re.sub(\"[^A-Za-z0-9]\", \" \", \"\".join(train_))\n",
    "test_data  = re.sub(\"[^A-Za-z0-9]\", \" \", \"\".join(test_))"
   ]
  },
  {
   "cell_type": "code",
   "execution_count": 11,
   "id": "3841c9eb",
   "metadata": {
    "colab": {
     "base_uri": "https://localhost:8080/"
    },
    "id": "3841c9eb",
    "outputId": "c656c7e9-e855-4d03-fa84-6a542d98393a"
   },
   "outputs": [
    {
     "name": "stdout",
     "output_type": "stream",
     "text": [
      "Sample train data : \n",
      "     the project gutenberg ebook of twenty years after this ebook is for the use of anyone anywhere \n"
     ]
    }
   ],
   "source": [
    "print(f\"Sample train data : \\n {train_data[:99]}\")"
   ]
  },
  {
   "cell_type": "code",
   "execution_count": 12,
   "id": "de6a1c15",
   "metadata": {
    "id": "de6a1c15"
   },
   "outputs": [],
   "source": [
    "#tokenizng data using inbuild tokenizer from torchtext library......\n",
    "train_tokens = tokenizer(train_data)\n",
    "test_tokens  = tokenizer(test_data)"
   ]
  },
  {
   "cell_type": "code",
   "execution_count": 13,
   "id": "d8b65c14",
   "metadata": {
    "colab": {
     "base_uri": "https://localhost:8080/"
    },
    "id": "d8b65c14",
    "outputId": "f7ca0c01-020c-489e-f8c3-4c7d8a5573d1"
   },
   "outputs": [
    {
     "name": "stdout",
     "output_type": "stream",
     "text": [
      "Sample tokens in train dataset: \n",
      " ['the', 'project', 'gutenberg', 'ebook', 'of', 'twenty', 'years', 'after', 'this']\n"
     ]
    }
   ],
   "source": [
    "print(f\"Sample tokens in train dataset: \\n {train_tokens[:9]}\")"
   ]
  },
  {
   "cell_type": "markdown",
   "id": "790f0acf",
   "metadata": {},
   "source": [
    "### Creating n-grams function"
   ]
  },
  {
   "cell_type": "code",
   "execution_count": 14,
   "id": "34d0dd8b",
   "metadata": {
    "id": "34d0dd8b"
   },
   "outputs": [],
   "source": [
    "#method to creating n-grams dataset where 5-grams will be input and 6th word will be label\n",
    "def generate_ngrams(token_data,output=True):\n",
    "\n",
    "    input_grams = []\n",
    "    #using inbuild ngram generator function from nltk..\n",
    "    ngram_generator = ngrams(token_data,5)\n",
    "\n",
    "    #iterating through the generated ngrams...\n",
    "    for ngram in ngram_generator:\n",
    "        input_grams.append(list(ngram))\n",
    "    #creating input lables if requried depending on the case....\n",
    "    if output:\n",
    "        output_token = []\n",
    "        for ngram in range(1,len(input_grams)):\n",
    "            output_token.append(input_grams[ngram][-1])\n",
    "        output_token.append('<end>')\n",
    "        return input_grams,output_token\n",
    "\n",
    "    return input_grams\n"
   ]
  },
  {
   "cell_type": "code",
   "execution_count": 15,
   "id": "e6f23224",
   "metadata": {
    "id": "e6f23224"
   },
   "outputs": [],
   "source": [
    "#method to convert tokens into token id based on vocabulary.....\n",
    "def convert_ids(x,y=True):\n",
    "    input_ids  = []\n",
    "    output_ids = []\n",
    "    for sample in x:\n",
    "        input_ids.append([word2id[word] for word in sample])\n",
    "    if y:\n",
    "        for sample in y:\n",
    "            output_ids.append(word2id[sample])\n",
    "        return input_ids,output_ids\n",
    "    return input_ids"
   ]
  },
  {
   "cell_type": "code",
   "execution_count": 16,
   "id": "bd91aad3",
   "metadata": {
    "id": "bd91aad3"
   },
   "outputs": [],
   "source": [
    "#generating n-grams for train and test sets.....\n",
    "x_train,y_train = generate_ngrams(train_tokens)\n",
    "x_test,y_test   = generate_ngrams(test_tokens)"
   ]
  },
  {
   "cell_type": "code",
   "execution_count": 17,
   "id": "771054e9",
   "metadata": {
    "id": "771054e9"
   },
   "outputs": [],
   "source": [
    "#converting generated tokens into token ids as they need to fed into model....\n",
    "x_train_ids,y_train_ids  = convert_ids(x_train,y_train)\n",
    "x_test_ids,y_test_ids  = convert_ids(x_test,y_test)"
   ]
  },
  {
   "cell_type": "code",
   "execution_count": 18,
   "id": "6ef7cd90",
   "metadata": {
    "id": "6ef7cd90"
   },
   "outputs": [],
   "source": [
    "def dataset_creation(X,y,batch_size=64):\n",
    "    tensor_x, tensor_y = torch.tensor(X),torch.tensor(y)\n",
    "    return DataLoader(list(zip(tensor_x,tensor_y)),batch_size=batch_size,shuffle=False)"
   ]
  },
  {
   "cell_type": "code",
   "execution_count": 23,
   "id": "6424dc68",
   "metadata": {
    "id": "6424dc68"
   },
   "outputs": [],
   "source": [
    "#tmodel parameters\n",
    "batch_size = 1\n",
    "epochs     = 10\n",
    "learning_rate = 1e-3\n",
    "\n",
    "vocab_size = len(vocab)\n",
    "embedding_dim = 300\n",
    "hidden_dim = 300\n",
    "input_size = 5"
   ]
  },
  {
   "cell_type": "code",
   "execution_count": 24,
   "id": "cc167456",
   "metadata": {
    "id": "cc167456"
   },
   "outputs": [],
   "source": [
    "train_loader = dataset_creation(x_train_ids,y_train_ids,batch_size)\n",
    "val_loader   = dataset_creation(x_test_ids,y_test_ids,batch_size)"
   ]
  },
  {
   "cell_type": "markdown",
   "id": "edd36cb4",
   "metadata": {
    "id": "edd36cb4"
   },
   "source": [
    "# Feed Forward Language model building\n",
    "1.2 Model Architecture \n",
    "The architecture of the Language Model is described below: \n",
    "1. The input to the Neural Network would be the pre-trained embeddings of the previous 5-words \n",
    "concatenated together(5-gram embedding). \n",
    "2. These embeddings would pass into a Hidden Layer which would output a 300-dimension vector. \n",
    "3. The output of the first Hidden Layer would go into another Hidden Layer, which would output a vector of\n",
    "size vocabulary. \n",
    "4. This vector would be passed to a Softmax Layer, which would output the probabilities of the entire \n",
    "vocabulary occurring after the given 5-words. \n",
    "5. The vocabulary should consist of all the words that occur any number of times in the training data. \n",
    "Unknown words can be handled with a <UNK> token.\n",
    "6. You are allowed to use only Pytorch as the Deep Learning Framework for this assignment. 7. You can use \n",
    "any pre-trained embeddings as input to the Neural Network - word2vec, GloVe, fasttext, etc. "
   ]
  },
  {
   "cell_type": "code",
   "execution_count": 34,
   "id": "7fa57b9b",
   "metadata": {
    "id": "7fa57b9b"
   },
   "outputs": [],
   "source": [
    "class LanguageModel(nn.Module):\n",
    "    def __init__(self, embedding_dim, hidden_dim, vocab_size):\n",
    "        super(LanguageModel, self).__init__()\n",
    "        self.embedding_dim = embedding_dim\n",
    "        # The embedding layer that takes the input n-gram and outputs a vector of embedding_dim\n",
    "        self.embedding = nn.Embedding(vocab_size, embedding_dim)\n",
    "        # The first hidden layer that takes the embedding vector and outputs a vector of hidden_dim\n",
    "        self.hidden1 = nn.Linear(embedding_dim * 5, hidden_dim)\n",
    "        # The second hidden layer that takes the hidden vector and outputs a vector of vocab_size\n",
    "        self.hidden2 = nn.Linear(hidden_dim, vocab_size)\n",
    "        # The softmax layer that takes the output vector and outputs a probability distribution over the vocabulary\n",
    "        self.softmax = nn.LogSoftmax(dim=1)\n",
    "\n",
    "    def forward(self, inputs):\n",
    "        # Embed the inputs and reshape them to match the expected shape of the first hidden layer\n",
    "        embeds = self.embedding(inputs)\n",
    "        embeds = embeds.view(-1, self.embedding_dim * 5)\n",
    "        # Pass the embeddings through the first hidden layer and apply a ReLU activation function\n",
    "        hidden1 = self.hidden1(embeds)\n",
    "        hidden1 = F.relu(hidden1)\n",
    "        # Pass the hidden vector through the second hidden layer\n",
    "        hidden2 = self.hidden2(hidden1)\n",
    "        # Pass the output vector through the softmax layer and return the result\n",
    "        output = self.softmax(hidden2)\n",
    "        return output"
   ]
  },
  {
   "cell_type": "code",
   "execution_count": 35,
   "id": "babd87cb",
   "metadata": {
    "id": "babd87cb"
   },
   "outputs": [],
   "source": [
    "model = LanguageModel(embedding_dim,hidden_dim,vocab_size)\n",
    "model = model.to(device)"
   ]
  },
  {
   "cell_type": "code",
   "execution_count": 36,
   "id": "f86a1cd2",
   "metadata": {
    "colab": {
     "base_uri": "https://localhost:8080/"
    },
    "id": "f86a1cd2",
    "outputId": "7231b013-542b-42a4-b4a6-49880ea02041",
    "scrolled": true
   },
   "outputs": [
    {
     "name": "stdout",
     "output_type": "stream",
     "text": [
      "Model Architecture created : \n",
      " LanguageModel(\n",
      "  (embedding): Embedding(17439, 300)\n",
      "  (hidden1): Linear(in_features=1500, out_features=300, bias=True)\n",
      "  (hidden2): Linear(in_features=300, out_features=17439, bias=True)\n",
      "  (softmax): LogSoftmax(dim=1)\n",
      ")\n"
     ]
    }
   ],
   "source": [
    "print(f\"Model Architecture created : \\n {model}\")"
   ]
  },
  {
   "cell_type": "markdown",
   "id": "c0797a04",
   "metadata": {
    "id": "c0797a04"
   },
   "source": [
    "# Feed Forward Language Model Training"
   ]
  },
  {
   "cell_type": "code",
   "execution_count": 37,
   "id": "a7e25aac",
   "metadata": {
    "id": "a7e25aac"
   },
   "outputs": [],
   "source": [
    "#defining loss and optimizer functions for model\n",
    "criterion = nn.NLLLoss()\n",
    "optimizer = torch.optim.SGD(model.parameters(), lr=.001)"
   ]
  },
  {
   "cell_type": "code",
   "execution_count": 32,
   "id": "8775b6ed",
   "metadata": {
    "id": "8775b6ed"
   },
   "outputs": [],
   "source": [
    "def perplexity(loss):\n",
    "    '''method for calculating the perpelxity\n",
    "        of model output'''\n",
    "    return torch.exp(loss)\n",
    "\n",
    "def train(model,data_loader):\n",
    "    '''Method that inputs a dataloader and\n",
    "    train model for one epoch on dataset\n",
    "    '''\n",
    "    # Set the model to training mode\n",
    "    model.train()\n",
    "    # Initialize the total loss\n",
    "    total_loss = 0\n",
    "    # Loop over the batches\n",
    "    for input_seq, target_seq in data_loader:\n",
    "        # Move the input and target sequences to the device\n",
    "        input_seq = input_seq.to(device)\n",
    "        target_seq = target_seq.to(device)\n",
    "        # Zero the gradients\n",
    "        optimizer.zero_grad()\n",
    "        # Forward pass the input sequence through the model and get the output\n",
    "        output = model(input_seq)\n",
    "        # Compute the loss between the output and the target sequence\n",
    "        loss = criterion(output, target_seq)\n",
    "        # Backward pass the loss and update the gradients\n",
    "        loss.backward()\n",
    "        # Update the parameters\n",
    "        optimizer.step()\n",
    "        # Accumulate the total loss\n",
    "        total_loss += loss\n",
    "    #training loss per batch....\n",
    "    total_loss = total_loss / len(data_loader)\n",
    "    #train perplexity per batch....\n",
    "    total_pxl  = perplexity(total_loss)\n",
    "    # Return the average loss per batch\n",
    "    return total_loss.item(),total_pxl.item()\n",
    "\n",
    "def evaluate(model,data_loader):\n",
    "\n",
    "    '''Method that inputs a dataloader and\n",
    "    evaluated model for one epoch on dataset\n",
    "    '''\n",
    "    #setting model in evaluation model\n",
    "    model.eval()\n",
    "\n",
    "    #validation_loss\n",
    "    val_loss = 0\n",
    "\n",
    "    #iterating over batches\n",
    "    for input_seq, target_seq in data_loader:\n",
    "\n",
    "        #placing them on device\n",
    "        input_seq = input_seq.to(device)\n",
    "        target_seq = target_seq.to(device)\n",
    "\n",
    "        #forward pass of input sequence to get output....\n",
    "        output = model(input_seq)\n",
    "\n",
    "        #calculating loss for current batch....\n",
    "        loss = criterion(output,target_seq)\n",
    "        #accumaulating total loss....\n",
    "        val_loss += loss\n",
    "\n",
    "    #training loss per batch....\n",
    "    val_loss = val_loss / len(data_loader)\n",
    "    #train perplexity per batch....\n",
    "    val_pxl  = perplexity(val_loss)\n",
    "    # Return the average loss per batch\n",
    "    return val_loss.item(),val_pxl.item()\n",
    "\n",
    "\n",
    "def predict(model,text):\n",
    "    '''Method for predictin a piece of text\n",
    "    as input\n",
    "        '''\n",
    "    #tokenizing the text using tokenizer....\n",
    "    tokens       = tokenizer(text)\n",
    "    #generating 5-grams based on text.....\n",
    "    input_ngrams = generate_ngrams(tokens,False)\n",
    "    #converting them into input-ids for model input....\n",
    "    input_ids    = convert_ids(input_ngrams,False)\n",
    "    #converting them to torch tensors.....\n",
    "    input_ids    = torch.tensor(input_ids).to(device)\n",
    "\n",
    "    #setting model into evaluation mode...\n",
    "    model.eval()\n",
    "    #disabling all gradients while predicting....\n",
    "    with torch.no_grad():\n",
    "        output = model(input_ids)\n",
    "        index = output.argmax(dim=1)\n",
    "\n",
    "    #printing output corresponding to each  n-gram generated.....\n",
    "    for x,y in zip(input_ngrams,index):\n",
    "        print(*x,id2word[y.item()])"
   ]
  },
  {
   "cell_type": "code",
   "execution_count": 30,
   "id": "d755db17",
   "metadata": {},
   "outputs": [
    {
     "name": "stdout",
     "output_type": "stream",
     "text": [
      "Epoch: 1, Training loss: 7.1096, Train perplexity : 1223.6295,        Validation loss: 6.9593,Validation Perplexity : 1052.8772\n",
      "Epoch: 2, Training loss: 6.8502, Train perplexity : 944.0771,        Validation loss: 6.7640,Validation Perplexity : 866.1257\n",
      "Epoch: 3, Training loss: 6.6696, Train perplexity : 788.0577,        Validation loss: 6.6263,Validation Perplexity : 754.6558\n",
      "Epoch: 4, Training loss: 6.5346, Train perplexity : 688.5342,        Validation loss: 6.5196,Validation Perplexity : 678.3189\n",
      "Epoch: 5, Training loss: 6.4268, Train perplexity : 618.1986,        Validation loss: 6.4354,Validation Perplexity : 623.5129\n",
      "Epoch: 6, Training loss: 6.3383, Train perplexity : 565.8448,        Validation loss: 6.3662,Validation Perplexity : 581.8643\n",
      "Epoch: 7, Training loss: 6.2636, Train perplexity : 525.1321,        Validation loss: 6.3074,Validation Perplexity : 548.5894\n",
      "Epoch: 8, Training loss: 6.1993, Train perplexity : 492.4062,        Validation loss: 6.2576,Validation Perplexity : 521.9512\n",
      "Epoch: 9, Training loss: 6.1431, Train perplexity : 465.5154,        Validation loss: 6.2145,Validation Perplexity : 499.9569\n",
      "Epoch: 10, Training loss: 6.0935, Train perplexity : 442.9601,        Validation loss: 6.1767,Validation Perplexity : 481.4143\n"
     ]
    }
   ],
   "source": [
    "embed_lm_train_loss = []\n",
    "embed_lm_valid_loss = []\n",
    "embed_lm_train_pxl  = []\n",
    "embed_lm_valid_pxl  = []\n",
    "for epoch in range(1, epochs + 1):\n",
    "    # Train the model on the training set and get the average loss\n",
    "    train_loss,train_pxl = train(train_loader)\n",
    "    embed_lm_train_loss.append(train_loss)\n",
    "    embed_lm_train_pxl.append(train_pxl)\n",
    "    # Evaluate the model on the validation set and get the average loss\n",
    "    val_loss,val_pxl = evaluate(val_loader)\n",
    "    embed_lm_valid_loss.append(val_loss)\n",
    "    embed_lm_valid_pxl.append(val_pxl)\n",
    "    # Print the epoch, training loss, and validation loss\n",
    "    print(f\"Epoch: {epoch}, Training loss: {train_loss:.4f}, Train perplexity : {train_pxl:.4f},\\\n",
    "        Validation loss: {val_loss:.4f},Validation Perplexity : {val_pxl:.4f}\")\n"
   ]
  },
  {
   "cell_type": "markdown",
   "id": "8c2bc726",
   "metadata": {
    "id": "8c2bc726"
   },
   "source": [
    "# Feed Forward Language Model Results"
   ]
  },
  {
   "cell_type": "code",
   "execution_count": 61,
   "id": "e14a14bb",
   "metadata": {
    "id": "e14a14bb"
   },
   "outputs": [],
   "source": [
    "def plot_metrics(train,valid,name,epochs=10):\n",
    "    epochs = range(1,epochs+1)\n",
    "    plt.plot(epochs,train,label='Train '+name)\n",
    "    plt.plot(epochs,valid,label='Valid '+name)\n",
    "\n",
    "    plt.title('Traing and Validation '+name+'s')\n",
    "    plt.xlabel('Epochs')\n",
    "    plt.ylabel(name)\n",
    "    plt.legend(loc='best')\n",
    "    plt.show()"
   ]
  },
  {
   "cell_type": "code",
   "execution_count": 45,
   "id": "c8ddb198",
   "metadata": {
    "scrolled": false
   },
   "outputs": [
    {
     "data": {
      "image/png": "[encoded data removed]",
      "text/plain": [
       "<Figure size 432x288 with 1 Axes>"
      ]
     },
     "metadata": {
      "needs_background": "light"
     },
     "output_type": "display_data"
    }
   ],
   "source": [
    "plot_metrics(embed_lm_train_loss,embed_lm_valid_loss,'loss')"
   ]
  },
  {
   "cell_type": "code",
   "execution_count": 46,
   "id": "da4683ae",
   "metadata": {},
   "outputs": [
    {
     "data": {
      "image/png": "[encoded data removed]",
      "text/plain": [
       "<Figure size 432x288 with 1 Axes>"
      ]
     },
     "metadata": {
      "needs_background": "light"
     },
     "output_type": "display_data"
    }
   ],
   "source": [
    "plot_metrics(embed_lm_train_pxl,embed_lm_valid_pxl,'perplexity')"
   ]
  },
  {
   "cell_type": "code",
   "execution_count": 58,
   "id": "250c4fc9",
   "metadata": {
    "colab": {
     "base_uri": "https://localhost:8080/"
    },
    "id": "250c4fc9",
    "outputId": "a0a41044-5a29-4833-8e01-eebe4d27283f"
   },
   "outputs": [
    {
     "name": "stdout",
     "output_type": "stream",
     "text": [
      "hello there i am in the\n"
     ]
    }
   ],
   "source": [
    "predict(model,'hello there I am in')"
   ]
  },
  {
   "cell_type": "code",
   "execution_count": 59,
   "id": "293f61e5",
   "metadata": {
    "colab": {
     "base_uri": "https://localhost:8080/"
    },
    "id": "293f61e5",
    "outputId": "91dcbab6-ae62-4a15-b066-6abd24ea65df",
    "scrolled": true
   },
   "outputs": [
    {
     "name": "stdout",
     "output_type": "stream",
     "text": [
      "there i am in the corner\n"
     ]
    }
   ],
   "source": [
    "predict(model,'there i am in the')"
   ]
  },
  {
   "cell_type": "code",
   "execution_count": 60,
   "id": "863dd8bf",
   "metadata": {
    "colab": {
     "base_uri": "https://localhost:8080/"
    },
    "id": "863dd8bf",
    "outputId": "e4741238-4853-40ba-8526-06cc4c381033",
    "scrolled": true
   },
   "outputs": [
    {
     "name": "stdout",
     "output_type": "stream",
     "text": [
      "i am in the first place\n"
     ]
    }
   ],
   "source": [
    "predict(model, 'i am in the first')"
   ]
  },
  {
   "cell_type": "markdown",
   "id": "84b69f71",
   "metadata": {
    "id": "84b69f71"
   },
   "source": [
    "# LSTM Model Building\n",
    "2.2 Model Architecture \n",
    "The architecture of the Language Model is described below: \n",
    "1. The Neural Network would consist of repeating layers in an LSTM structure. \n",
    "2. The input to each layer would consist of the hidden layer and cell state output of the previous state, along\n",
    "with the embedding of the current word. \n",
    "3. The 300-dimension output would be put into a Linear layer, which will transform it to a vector of dimension\n",
    "of size vocabulary. Then, that to SoftMax-layer, which would provide the probability distribution over the\n",
    "entire vocabulary. "
   ]
  },
  {
   "cell_type": "code",
   "execution_count": 72,
   "id": "0b3c32f9",
   "metadata": {
    "id": "0b3c32f9"
   },
   "outputs": [],
   "source": [
    "class LSTMLanguageModel(nn.Module):\n",
    "    def __init__(self,input_size,vocab_size,hidden_dim):\n",
    "        super(LSTMLanguageModel,self).__init__()\n",
    "        self.input_size    = input_size\n",
    "        self.hidden_dim    = hidden_dim\n",
    "        #adding LSTM layer\n",
    "        self.lstm   = nn.LSTM(input_size,hidden_dim,batch_first= True)\n",
    "        #linear layer\n",
    "        self.linear = nn.Linear(hidden_dim,vocab_size)\n",
    "        #softmax layer\n",
    "        self.softmax = nn.LogSoftmax(dim=1)\n",
    "\n",
    "    def forward(self,inputs):\n",
    "        inputs = inputs.to(torch.float)\n",
    "        #lstm layer\n",
    "        lstm_out,hidden = self.lstm(inputs,None)\n",
    "        #linear layer\n",
    "        hidden2 = self.linear(lstm_out)\n",
    "        #output layer\n",
    "        output  = self.softmax(hidden2)\n",
    "\n",
    "        return output"
   ]
  },
  {
   "cell_type": "code",
   "execution_count": 73,
   "id": "67227707",
   "metadata": {
    "id": "67227707"
   },
   "outputs": [],
   "source": [
    "lstm_model = LSTMLanguageModel(input_size,vocab_size,hidden_dim)\n",
    "lstm_model = lstm_model.to(device)\n",
    "#defining loss and optimizer functions for model\n",
    "criterion = nn.NLLLoss()\n",
    "optimizer = torch.optim.SGD(lstm_model.parameters(), lr=.001)"
   ]
  },
  {
   "cell_type": "code",
   "execution_count": 76,
   "id": "5febbcc2",
   "metadata": {
    "colab": {
     "base_uri": "https://localhost:8080/"
    },
    "id": "5febbcc2",
    "outputId": "3a6cb290-02e0-4bdc-abd3-458d7afe459d"
   },
   "outputs": [
    {
     "name": "stdout",
     "output_type": "stream",
     "text": [
      "Model Architecture : \n",
      "LSTMLanguageModel(\n",
      "  (lstm): LSTM(5, 300, batch_first=True)\n",
      "  (linear): Linear(in_features=300, out_features=17439, bias=True)\n",
      "  (softmax): LogSoftmax(dim=1)\n",
      ")\n"
     ]
    }
   ],
   "source": [
    "print(f'Model Architecture : \\n{lstm_model}')"
   ]
  },
  {
   "cell_type": "markdown",
   "id": "a3260db0",
   "metadata": {
    "id": "a3260db0"
   },
   "source": [
    "# LSTM Model Training"
   ]
  },
  {
   "cell_type": "code",
   "execution_count": 77,
   "id": "f3738cf9",
   "metadata": {
    "id": "f3738cf9"
   },
   "outputs": [],
   "source": [
    "lstm_train_loader = dataset_creation(x_train_ids,y_train_ids)\n",
    "lstm_valid_loader = dataset_creation(x_test_ids,y_test_ids)"
   ]
  },
  {
   "cell_type": "code",
   "execution_count": 78,
   "id": "d9b089e6",
   "metadata": {
    "colab": {
     "base_uri": "https://localhost:8080/"
    },
    "id": "d9b089e6",
    "outputId": "46682e46-f49f-4d95-afbb-355a154639e8",
    "scrolled": true
   },
   "outputs": [
    {
     "name": "stdout",
     "output_type": "stream",
     "text": [
      "Epoch: 1, Training loss: 8.3900, Train perplexity : 4402.9492, Validation loss: 7.6855,Validation Perplexity : 2176.4629\n",
      "Epoch: 2, Training loss: 7.4322, Train perplexity : 1689.5092, Validation loss: 7.3619,Validation Perplexity : 1574.8519\n",
      "Epoch: 3, Training loss: 7.1939, Train perplexity : 1331.2629, Validation loss: 7.2333,Validation Perplexity : 1384.7455\n",
      "Epoch: 4, Training loss: 7.0705, Train perplexity : 1176.7788, Validation loss: 7.1563,Validation Perplexity : 1282.1167\n",
      "Epoch: 5, Training loss: 6.9884, Train perplexity : 1083.9355, Validation loss: 7.1037,Validation Perplexity : 1216.4094\n",
      "Epoch: 6, Training loss: 6.9308, Train perplexity : 1023.2961, Validation loss: 7.0664,Validation Perplexity : 1171.9529\n",
      "Epoch: 7, Training loss: 6.8883, Train perplexity : 980.7163, Validation loss: 7.0375,Validation Perplexity : 1138.5908\n",
      "Epoch: 8, Training loss: 6.8549, Train perplexity : 948.5361, Validation loss: 7.0149,Validation Perplexity : 1113.0605\n",
      "Epoch: 9, Training loss: 6.8280, Train perplexity : 923.3304, Validation loss: 6.9964,Validation Perplexity : 1092.6683\n",
      "Epoch: 10, Training loss: 6.8056, Train perplexity : 902.8723, Validation loss: 6.9818,Validation Perplexity : 1076.8961\n"
     ]
    }
   ],
   "source": [
    "lstm_lm_train_loss = []\n",
    "lstm_lm_valid_loss = []\n",
    "lstm_lm_train_pxl  = []\n",
    "lstm_lm_valid_pxl    = []\n",
    "\n",
    "for epoch in range(1, epochs + 1):\n",
    "    # Train the model on the training set and get the average loss\n",
    "    train_loss,train_pxl = train(lstm_model,lstm_train_loader)\n",
    "    lstm_lm_train_loss.append(train_loss)\n",
    "    lstm_lm_train_pxl.append(train_pxl)\n",
    "\n",
    "    # Evaluate the model on the validation set and get the average loss\n",
    "    val_loss,val_pxl = evaluate(lstm_model,lstm_valid_loader)\n",
    "    lstm_lm_valid_loss.append(val_loss)\n",
    "    lstm_lm_valid_pxl.append(val_pxl)\n",
    "\n",
    "\n",
    "    # Print the epoch, training loss, and validation loss\n",
    "    print(f\"Epoch: {epoch}, Training loss: {train_loss:.4f}, Train perplexity : {train_pxl:.4f}, Validation loss: {val_loss:.4f},Validation Perplexity : {val_pxl:.4f}\")"
   ]
  },
  {
   "cell_type": "markdown",
   "id": "0d38f503",
   "metadata": {
    "id": "0d38f503"
   },
   "source": [
    "# LSTM Model Results"
   ]
  },
  {
   "cell_type": "code",
   "execution_count": 79,
   "id": "6b5f9e52",
   "metadata": {
    "colab": {
     "base_uri": "https://localhost:8080/"
    },
    "id": "6b5f9e52",
    "outputId": "d480a015-bc24-4171-d54e-9dcd4c7108a2"
   },
   "outputs": [
    {
     "name": "stdout",
     "output_type": "stream",
     "text": [
      "hello there i am in the\n"
     ]
    }
   ],
   "source": [
    "predict(lstm_model,'hello there I am in')"
   ]
  },
  {
   "cell_type": "code",
   "execution_count": 80,
   "id": "f1e719cd",
   "metadata": {
    "colab": {
     "base_uri": "https://localhost:8080/"
    },
    "id": "f1e719cd",
    "outputId": "0f89542d-c70c-4dca-d8b7-8eb586ce3b49",
    "scrolled": true
   },
   "outputs": [
    {
     "name": "stdout",
     "output_type": "stream",
     "text": [
      "there i am in the the\n"
     ]
    }
   ],
   "source": [
    "predict(lstm_model,'there i am in the')"
   ]
  },
  {
   "cell_type": "code",
   "execution_count": 81,
   "id": "843f7a9a",
   "metadata": {
    "colab": {
     "base_uri": "https://localhost:8080/"
    },
    "id": "843f7a9a",
    "outputId": "a618ea58-b51a-4b94-d218-b4d468db7a45",
    "scrolled": true
   },
   "outputs": [
    {
     "name": "stdout",
     "output_type": "stream",
     "text": [
      "i am in the the the\n"
     ]
    }
   ],
   "source": [
    "predict(lstm_model,'i am in the the')"
   ]
  },
  {
   "cell_type": "code",
   "execution_count": 82,
   "id": "44911e8e",
   "metadata": {
    "colab": {
     "base_uri": "https://localhost:8080/",
     "height": 472
    },
    "id": "44911e8e",
    "outputId": "c04412d8-6cf1-4897-d163-8a9f1cba4a88"
   },
   "outputs": [
    {
     "data": {
      "image/png": "[encoded data removed]",
      "text/plain": [
       "<Figure size 640x480 with 1 Axes>"
      ]
     },
     "metadata": {},
     "output_type": "display_data"
    }
   ],
   "source": [
    "plot_metrics(lstm_lm_train_loss,lstm_lm_valid_loss,'loss')"
   ]
  },
  {
   "cell_type": "code",
   "execution_count": 83,
   "id": "aaba7676",
   "metadata": {
    "colab": {
     "base_uri": "https://localhost:8080/",
     "height": 472
    },
    "id": "aaba7676",
    "outputId": "25690339-c719-4e5c-e962-941e61e52d74"
   },
   "outputs": [
    {
     "data": {
      "image/png": "[encoded data removed]",
      "text/plain": [
       "<Figure size 640x480 with 1 Axes>"
      ]
     },
     "metadata": {},
     "output_type": "display_data"
    }
   ],
   "source": [
    "plot_metrics(lstm_lm_train_pxl,lstm_lm_valid_pxl,'perplexity')"
   ]
  },
  {
   "cell_type": "code",
   "execution_count": 84,
   "id": "e1ef88ad",
   "metadata": {
    "id": "e1ef88ad"
   },
   "outputs": [],
   "source": [
    "torch.save(lstm_model,\"trained_lstm_model.pth\")"
   ]
  },
  {
   "cell_type": "markdown",
   "id": "d5d6b8fb",
   "metadata": {
    "id": "d5d6b8fb"
   },
   "source": [
    "## Transformer Decoder Model"
   ]
  },
  {
   "cell_type": "code",
   "execution_count": 25,
   "id": "8941818b",
   "metadata": {
    "id": "8941818b"
   },
   "outputs": [],
   "source": [
    "class Head(nn.Module):\n",
    "    ''' Method implementing the attention head\n",
    "        in the multi-head attention with masking\n",
    "        since it belongs to decoder block\n",
    "        '''\n",
    "    def __init__(self,n_embed,head_size,block_size):\n",
    "        super().__init__()\n",
    "        self.key    = nn.Linear(n_embed,head_size,bias=False)\n",
    "        self.value  = nn.Linear(n_embed,head_size,bias=False)\n",
    "        self.query  = nn.Linear(n_embed,head_size,bias=False)\n",
    "        self.register_buffer('tril',torch.tril(torch.ones(block_size,block_size)))\n",
    "\n",
    "    def forward(self,x):\n",
    "\n",
    "        B,T,C = x.shape\n",
    "\n",
    "        k = self.key(x) # (B,T,hs)\n",
    "        q = self.query(x) #(B,T,hs)\n",
    "        # print(k.shape)\n",
    "        wei = q @ k.transpose(-2,-1) # (B,T,hs) (B,T,hs) -----> (B,T,T)\n",
    "        wei = wei * k.shape[-1]**-0.5\n",
    "        wei = wei.masked_fill(self.tril[:T,:T] == 0, float('-inf'))\n",
    "        wei = F.softmax(wei,dim=-1)\n",
    "\n",
    "        v  = self.value(x)\n",
    "        out = wei@v #(B,T,T) , (B,T,hs) ---> (B,T,hs)\n",
    "\n",
    "        return out\n",
    "\n",
    "class MultiHeadAttention(nn.Module):\n",
    "    '''Multihead Attention block where we combine\n",
    "    individual attention heads and concatenate them\n",
    "    to create Mult-Head Attention'''\n",
    "    def __init__(self,num_heads,block_size,head_size):\n",
    "        super().__init__()\n",
    "        n_embed    = num_heads * head_size\n",
    "        self.heads = nn.ModuleList([Head(n_embed,head_size,block_size) for _ in range(num_heads)])\n",
    "        self.proj  = nn.Linear(n_embed,n_embed)\n",
    "\n",
    "    def forward(self,x):\n",
    "        out = torch.cat([h(x) for h in self.heads],dim=-1)\n",
    "        out = self.proj(out)\n",
    "\n",
    "        return out\n",
    "\n",
    "\n",
    "\n",
    "class FeedForward(nn.Module):\n",
    "    '''\n",
    "    Method that implements feed forward neural network\n",
    "    part of transformer model\n",
    "    '''\n",
    "    def __init__(self, n_embed):\n",
    "        super().__init__()\n",
    "        self.net = nn.Sequential(\n",
    "            nn.Linear(n_embed,4*n_embed),\n",
    "            nn.ReLU(),\n",
    "            nn.Linear(4*n_embed, n_embed)  #skip connection from the multihead attention\n",
    "        )\n",
    "\n",
    "    def forward(self,x):\n",
    "        return self.net(x)\n",
    "\n",
    "\n",
    "\n",
    "class Block(nn.Module):\n",
    "    '''Method implements a typical decoder block\n",
    "    with mult-head attention block, feed-forward neural network\n",
    "    '''\n",
    "    def __init__(self,n_embed,n_head,block_size) :\n",
    "        super().__init__()\n",
    "        head_size = n_embed // n_head\n",
    "        self.mas  = MultiHeadAttention(n_head,block_size,head_size=head_size)\n",
    "        self.ffn  = FeedForward(n_embed=n_embed)\n",
    "        self.ln1  = nn.LayerNorm(n_embed) #Layer normalization\n",
    "        self.ln2  = nn.LayerNorm(n_embed) #Layer Normalization\n",
    "\n",
    "    def forward(self,x):\n",
    "\n",
    "        x  =  x + self.mas(self.ln1(x)) #applying LN before sending it into Multi-Head attention\n",
    "        x  =  x + self.ffn(self.ln2(x)) # applying LN before sending it to FeedForward Network\n",
    "\n",
    "        return x"
   ]
  },
  {
   "cell_type": "code",
   "execution_count": 26,
   "id": "21c27fb6",
   "metadata": {
    "id": "21c27fb6"
   },
   "outputs": [],
   "source": [
    "class TransformerDecoder(nn.Module):\n",
    "    '''Method implementing transformer decoder block\n",
    "    with MHA and FFN as two blocks\n",
    "    '''\n",
    "    def __init__(self,block_size,n_embed,vocab_size):\n",
    "        super().__init__()\n",
    "        # each token directly reads off the logits for the next token from a lookup table\n",
    "        self.token_embedding_table = nn.Embedding(vocab_size,n_embed)  #(B,T) ---> (B,T,n_embeds)\n",
    "        self.positional_embedding_table = nn.Embedding(block_size,n_embed) #(B,T) ---> (T,n_embds)\n",
    "        self.block = nn.Sequential(\n",
    "            Block(n_embed,2,block_size),\n",
    "            nn.LayerNorm(n_embed))\n",
    "        self.lm_head = nn.Linear(n_embed,vocab_size) #(B,T,head_size) ---> (B,T,vocab_size)\n",
    "        self.softmax = nn.LogSoftmax(dim=1)\n",
    "\n",
    "\n",
    "\n",
    "    def forward(self,idx):\n",
    "\n",
    "        B,T = idx.shape\n",
    "        #logits and targets are both (B,T) tensors of integers\n",
    "        tokn_embd = self.token_embedding_table(idx) #outputs of size (B,T,embed_size)\n",
    "        pos_embd  = self.positional_embedding_table(torch.arange(T,device=device)) # (T,embed_size)\n",
    "        x = tokn_embd + pos_embd\n",
    "        x = self.block(x)\n",
    "        logits = self.lm_head(x) # (B,T,vocab_size)\n",
    "        logits = logits[:,0,:]\n",
    "        output = self.softmax(logits)\n",
    "\n",
    "        return output\n"
   ]
  },
  {
   "cell_type": "code",
   "execution_count": 27,
   "id": "cac12c10",
   "metadata": {
    "id": "cac12c10"
   },
   "outputs": [],
   "source": [
    "decoder_model = TransformerDecoder(input_size,embedding_dim,vocab_size)\n",
    "decoder_model = decoder_model.to(device)"
   ]
  },
  {
   "cell_type": "code",
   "execution_count": 28,
   "id": "5917e995",
   "metadata": {
    "colab": {
     "base_uri": "https://localhost:8080/"
    },
    "id": "5917e995",
    "outputId": "d8b9e815-91e4-4357-c3f9-9280d1738da8"
   },
   "outputs": [
    {
     "name": "stdout",
     "output_type": "stream",
     "text": [
      "Architecture of Decoder Transformer Model : \n",
      "TransformerDecoder(\n",
      "  (token_embedding_table): Embedding(17439, 300)\n",
      "  (positional_embedding_table): Embedding(5, 300)\n",
      "  (block): Sequential(\n",
      "    (0): Block(\n",
      "      (mas): MultiHeadAttention(\n",
      "        (heads): ModuleList(\n",
      "          (0-1): 2 x Head(\n",
      "            (key): Linear(in_features=300, out_features=150, bias=False)\n",
      "            (value): Linear(in_features=300, out_features=150, bias=False)\n",
      "            (query): Linear(in_features=300, out_features=150, bias=False)\n",
      "          )\n",
      "        )\n",
      "        (proj): Linear(in_features=300, out_features=300, bias=True)\n",
      "      )\n",
      "      (ffn): FeedForward(\n",
      "        (net): Sequential(\n",
      "          (0): Linear(in_features=300, out_features=1200, bias=True)\n",
      "          (1): ReLU()\n",
      "          (2): Linear(in_features=1200, out_features=300, bias=True)\n",
      "        )\n",
      "      )\n",
      "      (ln1): LayerNorm((300,), eps=1e-05, elementwise_affine=True)\n",
      "      (ln2): LayerNorm((300,), eps=1e-05, elementwise_affine=True)\n",
      "    )\n",
      "    (1): LayerNorm((300,), eps=1e-05, elementwise_affine=True)\n",
      "  )\n",
      "  (lm_head): Linear(in_features=300, out_features=17439, bias=True)\n",
      "  (softmax): LogSoftmax(dim=1)\n",
      ")\n"
     ]
    }
   ],
   "source": [
    "print(f\"Architecture of Decoder Transformer Model : \\n{decoder_model}\")"
   ]
  },
  {
   "cell_type": "markdown",
   "id": "787edea4",
   "metadata": {
    "id": "787edea4"
   },
   "source": [
    "# Transformer Decoder Training"
   ]
  },
  {
   "cell_type": "code",
   "execution_count": 29,
   "id": "fd5c4f54",
   "metadata": {
    "id": "fd5c4f54"
   },
   "outputs": [],
   "source": [
    "#defining loss and optimizer required for the model......\n",
    "criterion = nn.NLLLoss()\n",
    "optimizer = torch.optim.SGD(decoder_model.parameters(), lr=learning_rate)"
   ]
  },
  {
   "cell_type": "code",
   "execution_count": 30,
   "id": "5f2f7b8b",
   "metadata": {
    "id": "5f2f7b8b"
   },
   "outputs": [],
   "source": [
    "#creating a dataset loader for decoder based trasformer models...\n",
    "decoder_train_loader = dataset_creation(x_train_ids,y_train_ids,batch_size=32)\n",
    "decoder_test_loader = dataset_creation(x_test_ids,y_test_ids,batch_size=32)"
   ]
  },
  {
   "cell_type": "code",
   "execution_count": 33,
   "id": "6b2cc4c7",
   "metadata": {
    "id": "6b2cc4c7",
    "scrolled": true
   },
   "outputs": [],
   "source": [
    "decoder_lm_train_loss = []\n",
    "decoder_lm_valid_loss = []\n",
    "decoder_lm_train_pxl  = []\n",
    "decoder_lm_valid_pxl    = []\n",
    "\n",
    "for epoch in range(1, epochs + 1):\n",
    "    # Train the model on the training set and get the average loss\n",
    "    train_loss,train_pxl = train(decoder_model,decoder_train_loader)\n",
    "    decoder_lm_train_loss.append(train_loss)\n",
    "    decoder_lm_train_pxl.append(train_pxl)\n",
    "\n",
    "#     # Evaluate the model on the validation set and get the average loss\n",
    "    val_loss,val_pxl = evaluate(decoder_model,decoder_test_loader)\n",
    "    decoder_lm_valid_loss.append(val_loss)\n",
    "    decoder_lm_valid_pxl.append(val_pxl)\n",
    "\n",
    "\n",
    "    # Print the epoch, training loss, and validation loss\n",
    "    print(f\"Epoch: {epoch}, Training loss: {train_loss:.4f}, Train perplexity : {train_pxl:.4f} Validation loss: {val_loss:.4f}, Validation Perplexity : {val_pxl:.4f}\")\n"
   ]
  },
  {
   "cell_type": "markdown",
   "id": "6d373319",
   "metadata": {
    "id": "6d373319"
   },
   "source": [
    "# Transformer Decoder Results"
   ]
  },
  {
   "cell_type": "code",
   "execution_count": null,
   "id": "8e6ade1f",
   "metadata": {
    "id": "8e6ade1f",
    "outputId": "0d3d6d40-6737-4062-e4b2-685f0979fe3d"
   },
   "outputs": [
    {
     "name": "stdout",
     "output_type": "stream",
     "text": [
      "hello there i am in the\n"
     ]
    }
   ],
   "source": [
    "predict(decoder_model,'hello there I am in')"
   ]
  },
  {
   "cell_type": "code",
   "execution_count": null,
   "id": "21ac9e99",
   "metadata": {
    "id": "21ac9e99",
    "outputId": "40d8faba-7dca-4a5f-a1bf-5ad46c2af95e",
    "scrolled": true
   },
   "outputs": [
    {
     "name": "stdout",
     "output_type": "stream",
     "text": [
      "there i am in the the\n"
     ]
    }
   ],
   "source": [
    "predict(decoder_model,'there i am in the')"
   ]
  },
  {
   "cell_type": "code",
   "execution_count": null,
   "id": "a5ac85fe",
   "metadata": {
    "id": "a5ac85fe",
    "outputId": "d1109b38-38d4-4ec2-cfcb-1ba2b4abcb10",
    "scrolled": true
   },
   "outputs": [
    {
     "name": "stdout",
     "output_type": "stream",
     "text": [
      "i am in the the the\n"
     ]
    }
   ],
   "source": [
    "predict(decoder_model,'i am in the the')"
   ]
  },
  {
   "cell_type": "code",
   "execution_count": null,
   "id": "8e5954e3",
   "metadata": {
    "id": "8e5954e3"
   },
   "outputs": [],
   "source": [
    "import pickle"
   ]
  },
  {
   "cell_type": "code",
   "execution_count": null,
   "id": "48d5e0db",
   "metadata": {
    "id": "48d5e0db"
   },
   "outputs": [],
   "source": [
    "with open('decoder_model.pkl','wb') as f:\n",
    "    pickle.dump(zip(decoder_lm_train_loss,decoder_lm_train_pxl,decoder_lm_valid_loss,decoder_lm_valid_pxl),f)"
   ]
  },
  {
   "cell_type": "code",
   "execution_count": null,
   "id": "de15f626",
   "metadata": {
    "id": "de15f626"
   },
   "outputs": [],
   "source": [
    "torch.save(decoder_model,\"trained_decoder_model.pth\")"
   ]
  },
  {
   "cell_type": "code",
   "execution_count": null,
   "id": "6ceccc52",
   "metadata": {
    "id": "6ceccc52",
    "outputId": "f550274e-3670-4cea-d10a-3916f58e2bfc"
   },
   "outputs": [
    {
     "data": {
      "image/png": "[encoded data removed]",
      "text/plain": [
       "<Figure size 432x288 with 1 Axes>"
      ]
     },
     "metadata": {
      "needs_background": "light"
     },
     "output_type": "display_data"
    }
   ],
   "source": [
    "plot_metrics(decoder_lm_train_loss,decoder_lm_valid_loss,'loss')\n",
    "#Blue -- Training Loss\n",
    "#Orange-- Validation loss"
   ]
  },
  {
   "cell_type": "code",
   "execution_count": null,
   "id": "4c6f96d1",
   "metadata": {
    "id": "4c6f96d1",
    "outputId": "1f0fc2d5-5b7a-43c1-d776-628cf72e1184",
    "scrolled": true
   },
   "outputs": [
    {
     "data": {
      "image/png": "[encoded data removed]",
      "text/plain": [
       "<Figure size 432x288 with 1 Axes>"
      ]
     },
     "metadata": {
      "needs_background": "light"
     },
     "output_type": "display_data"
    }
   ],
   "source": [
    "plot_metrics(decoder_lm_train_pxl,decoder_lm_valid_pxl,'Perplexity')\n",
    "#Blue -- Training perplexity\n",
    "#Orange-- Validation perplexity"
   ]
  },
  {
   "cell_type": "code",
   "execution_count": null,
   "id": "38c37e00",
   "metadata": {
    "id": "38c37e00"
   },
   "outputs": [],
   "source": [
    "import pickle\n",
    "def unzip_metrics(filename):\n",
    "\n",
    "    train_loss =[]\n",
    "    train_pxl  = []\n",
    "    val_loss   = []\n",
    "    val_pxl    = []\n",
    "    with open(filename,'rb') as f:\n",
    "        data = pickle.load(f)\n",
    "    for a,b,c,d in data:\n",
    "#         print(a,b,c,d)\n",
    "        train_loss.append(a)\n",
    "        train_pxl.append(b)\n",
    "        val_loss.append(c)\n",
    "        val_pxl.append(d)\n",
    "    return train_loss,train_pxl,val_loss,val_pxl"
   ]
  },
  {
   "cell_type": "code",
   "execution_count": null,
   "id": "060d3db6",
   "metadata": {
    "id": "060d3db6"
   },
   "outputs": [],
   "source": [
    "lm_train_loss,lm_train_pxl,lm_val_loss,lm_val_pxl = unzip_metrics('model_metric.pkl')\n",
    "lstm_train_loss,lstm_train_pxl,lstm_val_loss,lstm_val_pxl = unzip_metrics('lstm_mode.pkl')\n"
   ]
  },
  {
   "cell_type": "code",
   "execution_count": null,
   "id": "52be8399",
   "metadata": {
    "id": "52be8399",
    "outputId": "3b8fde49-e395-4a69-816e-34ecb60bf9ba"
   },
   "outputs": [
    {
     "data": {
      "image/png": "[encoded data removed]",
      "text/plain": [
       "<Figure size 432x288 with 1 Axes>"
      ]
     },
     "metadata": {
      "needs_background": "light"
     },
     "output_type": "display_data"
    }
   ],
   "source": [
    "# epochs = range(1,epochs+1)\n",
    "# plt.plot(epochs,label='Training Loss')\n",
    "plt.plot(lm_train_loss,label = 'Language Model')\n",
    "plt.plot(lstm_train_loss,label = 'LSTM Language Model')\n",
    "plt.plot(decoder_lm_train_loss,label = 'Decoder Language Model')\n",
    "plt.title('Training Loss for Three Models')\n",
    "plt.xlabel('Epochs')\n",
    "plt.ylabel('Training Loss')\n",
    "plt.legend()\n",
    "plt.show()"
   ]
  },
  {
   "cell_type": "code",
   "execution_count": null,
   "id": "9257fdf1",
   "metadata": {
    "id": "9257fdf1",
    "outputId": "219cc4dd-0a35-45f2-c1ba-2ea5f4399583"
   },
   "outputs": [
    {
     "data": {
      "image/png": "[encoded data removed]",
      "text/plain": [
       "<Figure size 432x288 with 1 Axes>"
      ]
     },
     "metadata": {
      "needs_background": "light"
     },
     "output_type": "display_data"
    }
   ],
   "source": [
    "plt.plot(lm_train_pxl,label = 'Language Model')\n",
    "plt.plot(lstm_train_pxl,label = 'LSTM Language Model')\n",
    "plt.plot(decoder_lm_train_pxl,label = 'Decoder Language Model')\n",
    "plt.title('Training Loss for Three Models')\n",
    "plt.xlabel('Epochs')\n",
    "plt.ylabel('Training Loss')\n",
    "plt.legend()\n",
    "plt.show()"
   ]
  }
 ],
 "metadata": {
  "accelerator": "GPU",
  "colab": {
   "gpuType": "T4",
   "provenance": []
  },
  "kernelspec": {
   "display_name": "Python 3 (ipykernel)",
   "language": "python",
   "name": "python3"
  },
  "language_info": {
   "codemirror_mode": {
    "name": "ipython",
    "version": 3
   },
   "file_extension": ".py",
   "mimetype": "text/x-python",
   "name": "python",
   "nbconvert_exporter": "python",
   "pygments_lexer": "ipython3",
   "version": "3.9.12"
  }
 },
 "nbformat": 4,
 "nbformat_minor": 5
}
